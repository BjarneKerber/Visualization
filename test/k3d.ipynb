{
 "cells": [
  {
   "cell_type": "code",
   "execution_count": 1,
   "metadata": {},
   "outputs": [],
   "source": [
    "import k3d\n",
    "from scipy import ndimage\n",
    "import numpy as np\n",
    "import SimpleITK as sitk\n",
    "import json\n",
    "import nibabel as nib"
   ]
  },
  {
   "cell_type": "code",
   "execution_count": 10,
   "metadata": {},
   "outputs": [],
   "source": [
    "class AsVolume:\n",
    "    def __init__(self, img, annotations=\"empty\"):\n",
    "        # img orientation is \"L\", \"I\", \"P\". We only transform it for viewing purpose\n",
    "        sitk_img = sitk.ReadImage(img)\n",
    "        # img_data.shape = y,z,x\n",
    "        sitk_img_data = sitk.GetArrayFromImage(sitk_img)\n",
    "        # transpose. img_data.shape = z, y, x. .\n",
    "        transp_sitk_img_data = np.transpose(sitk_img_data, [1, 0, 2])\n",
    "        # z needs to be mirrored.\n",
    "        trans_mat = np.array([[-1, 0, 0, 285],\n",
    "                              [0, 1, 0, 0],\n",
    "                              [0, 0, 1, 0],\n",
    "                              [0, 0, 0, 1]])\n",
    "        \n",
    "        # inverted trans_mat has to be used according to scipy documentation\n",
    "        inv_trans_mat = np.linalg.inv(trans_mat)\n",
    "        \n",
    "        new_sitk_img_data = ndimage.affine_transform(transp_sitk_img_data, inv_trans_mat)\n",
    "        \n",
    "        img_size = new_sitk_img_data.shape\n",
    "        # we need to set the bounds to make sure, that the image shape stays the same\n",
    "        bounds=np.array([0, img_size[2], 0, img_size[1], 0, img_size[0]])\n",
    "        \n",
    "        vol = k3d.volume(new_sitk_img_data.astype(np.float16),\n",
    "                         color_range=[100, 300],\n",
    "                         color_map=np.array(k3d.matplotlib_color_maps.gray,\n",
    "                                            dtype=np.float32),\n",
    "                         bounds = bounds)\n",
    "        plot = k3d.plot()\n",
    "        plot += vol\n",
    "        \n",
    "        if not annotations == \"empty\":\n",
    "            file=open(annotations)\n",
    "            annotation_system = json.load(file)\n",
    "            annotation_shapes = annotation_system[\"annotations\"][0]\n",
    "            \n",
    "            point_list=[]\n",
    "            # create the points we want to use\n",
    "            for points in annotation_shapes[\"points\"]:\n",
    "                # somehow Nora seems to use different notations for the array and \n",
    "                # the annotations so we need to transform the annotation coords: x, z, y -> z, y, x\n",
    "                coords = [points[\"coords_vox\"][1], points[\"coords_vox\"][2], points[\"coords_vox\"][0], 1]\n",
    "                new_coords = np.matmul(trans_mat, coords)\n",
    "                # k3d takes the array in the order z, y, x and changes it automatically to x, y, z\n",
    "                # But we need to rearrange the coords of the annotations z, y, x -> x, y, z\n",
    "                new_coords_clean= [new_coords[2], new_coords[1], new_coords[0]]\n",
    "                item={\"coords\":new_coords_clean, \"size\":points[\"size\"], \"color\":points[\"color\"]}\n",
    "                point_list.append(item)\n",
    "            annos=[{\"points\":(point_list)}]\n",
    "            \n",
    "            for anno in annos[0][\"points\"]:\n",
    "                # the color-giving for points is quite complicated with k3d. This will give it a red color.\n",
    "                colormap = k3d.colormaps.matplotlib_color_maps.hsv\n",
    "                red_color = k3d.helpers.map_colors(np.array(50), colormap)\n",
    "                red_color = red_color.astype(np.uint32)\n",
    "                new_point = k3d.points(positions=[anno[\"coords\"][0], anno[\"coords\"][1], anno[\"coords\"][2]],\n",
    "                                       point_size=anno[\"size\"],\n",
    "                                       colors=rand_color)\n",
    "                plot += new_point\n",
    "        else:\n",
    "            pass\n",
    "        \n",
    "        plot.display()"
   ]
  },
  {
   "cell_type": "code",
   "execution_count": 11,
   "metadata": {
    "scrolled": false
   },
   "outputs": [
    {
     "data": {
      "application/vnd.jupyter.widget-view+json": {
       "model_id": "edc3c21505cb4c8aa20d2e9e27fec22d",
       "version_major": 2,
       "version_minor": 0
      },
      "text/plain": [
       "Output()"
      ]
     },
     "metadata": {},
     "output_type": "display_data"
    }
   ],
   "source": [
    "img_filename = \"...\"\n",
    "anno_filename = \"...\"\n",
    "volume=AsVolume(img_filename, annotations=anno_filename)"
   ]
  },
  {
   "cell_type": "code",
   "execution_count": null,
   "metadata": {},
   "outputs": [],
   "source": []
  }
 ],
 "metadata": {
  "kernelspec": {
   "display_name": "Python 3",
   "language": "python",
   "name": "python3"
  },
  "language_info": {
   "codemirror_mode": {
    "name": "ipython",
    "version": 3
   },
   "file_extension": ".py",
   "mimetype": "text/x-python",
   "name": "python",
   "nbconvert_exporter": "python",
   "pygments_lexer": "ipython3",
   "version": "3.7.4"
  }
 },
 "nbformat": 4,
 "nbformat_minor": 4
}
